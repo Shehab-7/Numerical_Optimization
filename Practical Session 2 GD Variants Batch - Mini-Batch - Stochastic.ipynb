{
 "cells": [
  {
   "cell_type": "markdown",
   "metadata": {},
   "source": [
    "## Practical Work 2"
   ]
  },
  {
   "cell_type": "markdown",
   "metadata": {},
   "source": [
    "For this practical work, the student will have to develop a Python program that is able to implement the gradient descent variants (Batch/Mini-Batch/Stochastic) in order to achieve the linear regression of a set of datapoints."
   ]
  },
  {
   "cell_type": "markdown",
   "metadata": {},
   "source": [
    "#### Import numpy, matplotlib.pyplot and make it inline"
   ]
  },
  {
   "cell_type": "code",
   "execution_count": 61,
   "metadata": {},
   "outputs": [],
   "source": [
    "import numpy as np\n",
    "import pandas as pd\n",
    "import random\n",
    "from matplotlib import pyplot as plt\n",
    "%matplotlib inline"
   ]
  },
  {
   "cell_type": "markdown",
   "metadata": {},
   "source": [
    "To have a dataset or set of data points, the student must generate a pair of arrays <b>X</b> and <b>y</b> with the values in <b>X</b> equally distributed between <b>0</b> and <b>20</b> and the values in <b>y</b> such that: \n",
    "<b>yi = a*xi + b (and a = -2, b = 1)</b>\n"
   ]
  },
  {
   "cell_type": "code",
   "execution_count": 62,
   "metadata": {},
   "outputs": [],
   "source": [
    "x = np.linspace(0, 20)\n",
    "a = -2\n",
    "b = 1\n",
    "y = a*x + b"
   ]
  },
  {
   "cell_type": "code",
   "execution_count": 63,
   "metadata": {},
   "outputs": [
    {
     "data": {
      "text/html": [
       "<div>\n",
       "<style scoped>\n",
       "    .dataframe tbody tr th:only-of-type {\n",
       "        vertical-align: middle;\n",
       "    }\n",
       "\n",
       "    .dataframe tbody tr th {\n",
       "        vertical-align: top;\n",
       "    }\n",
       "\n",
       "    .dataframe thead th {\n",
       "        text-align: right;\n",
       "    }\n",
       "</style>\n",
       "<table border=\"1\" class=\"dataframe\">\n",
       "  <thead>\n",
       "    <tr style=\"text-align: right;\">\n",
       "      <th></th>\n",
       "      <th>x</th>\n",
       "      <th>y</th>\n",
       "    </tr>\n",
       "  </thead>\n",
       "  <tbody>\n",
       "    <tr>\n",
       "      <th>0</th>\n",
       "      <td>0.000000</td>\n",
       "      <td>1.000000</td>\n",
       "    </tr>\n",
       "    <tr>\n",
       "      <th>1</th>\n",
       "      <td>0.408163</td>\n",
       "      <td>0.183673</td>\n",
       "    </tr>\n",
       "    <tr>\n",
       "      <th>2</th>\n",
       "      <td>0.816327</td>\n",
       "      <td>-0.632653</td>\n",
       "    </tr>\n",
       "    <tr>\n",
       "      <th>3</th>\n",
       "      <td>1.224490</td>\n",
       "      <td>-1.448980</td>\n",
       "    </tr>\n",
       "    <tr>\n",
       "      <th>4</th>\n",
       "      <td>1.632653</td>\n",
       "      <td>-2.265306</td>\n",
       "    </tr>\n",
       "    <tr>\n",
       "      <th>5</th>\n",
       "      <td>2.040816</td>\n",
       "      <td>-3.081633</td>\n",
       "    </tr>\n",
       "    <tr>\n",
       "      <th>6</th>\n",
       "      <td>2.448980</td>\n",
       "      <td>-3.897959</td>\n",
       "    </tr>\n",
       "    <tr>\n",
       "      <th>7</th>\n",
       "      <td>2.857143</td>\n",
       "      <td>-4.714286</td>\n",
       "    </tr>\n",
       "    <tr>\n",
       "      <th>8</th>\n",
       "      <td>3.265306</td>\n",
       "      <td>-5.530612</td>\n",
       "    </tr>\n",
       "    <tr>\n",
       "      <th>9</th>\n",
       "      <td>3.673469</td>\n",
       "      <td>-6.346939</td>\n",
       "    </tr>\n",
       "    <tr>\n",
       "      <th>10</th>\n",
       "      <td>4.081633</td>\n",
       "      <td>-7.163265</td>\n",
       "    </tr>\n",
       "    <tr>\n",
       "      <th>11</th>\n",
       "      <td>4.489796</td>\n",
       "      <td>-7.979592</td>\n",
       "    </tr>\n",
       "    <tr>\n",
       "      <th>12</th>\n",
       "      <td>4.897959</td>\n",
       "      <td>-8.795918</td>\n",
       "    </tr>\n",
       "    <tr>\n",
       "      <th>13</th>\n",
       "      <td>5.306122</td>\n",
       "      <td>-9.612245</td>\n",
       "    </tr>\n",
       "    <tr>\n",
       "      <th>14</th>\n",
       "      <td>5.714286</td>\n",
       "      <td>-10.428571</td>\n",
       "    </tr>\n",
       "    <tr>\n",
       "      <th>15</th>\n",
       "      <td>6.122449</td>\n",
       "      <td>-11.244898</td>\n",
       "    </tr>\n",
       "    <tr>\n",
       "      <th>16</th>\n",
       "      <td>6.530612</td>\n",
       "      <td>-12.061224</td>\n",
       "    </tr>\n",
       "    <tr>\n",
       "      <th>17</th>\n",
       "      <td>6.938776</td>\n",
       "      <td>-12.877551</td>\n",
       "    </tr>\n",
       "    <tr>\n",
       "      <th>18</th>\n",
       "      <td>7.346939</td>\n",
       "      <td>-13.693878</td>\n",
       "    </tr>\n",
       "    <tr>\n",
       "      <th>19</th>\n",
       "      <td>7.755102</td>\n",
       "      <td>-14.510204</td>\n",
       "    </tr>\n",
       "    <tr>\n",
       "      <th>20</th>\n",
       "      <td>8.163265</td>\n",
       "      <td>-15.326531</td>\n",
       "    </tr>\n",
       "    <tr>\n",
       "      <th>21</th>\n",
       "      <td>8.571429</td>\n",
       "      <td>-16.142857</td>\n",
       "    </tr>\n",
       "    <tr>\n",
       "      <th>22</th>\n",
       "      <td>8.979592</td>\n",
       "      <td>-16.959184</td>\n",
       "    </tr>\n",
       "    <tr>\n",
       "      <th>23</th>\n",
       "      <td>9.387755</td>\n",
       "      <td>-17.775510</td>\n",
       "    </tr>\n",
       "    <tr>\n",
       "      <th>24</th>\n",
       "      <td>9.795918</td>\n",
       "      <td>-18.591837</td>\n",
       "    </tr>\n",
       "    <tr>\n",
       "      <th>25</th>\n",
       "      <td>10.204082</td>\n",
       "      <td>-19.408163</td>\n",
       "    </tr>\n",
       "    <tr>\n",
       "      <th>26</th>\n",
       "      <td>10.612245</td>\n",
       "      <td>-20.224490</td>\n",
       "    </tr>\n",
       "    <tr>\n",
       "      <th>27</th>\n",
       "      <td>11.020408</td>\n",
       "      <td>-21.040816</td>\n",
       "    </tr>\n",
       "    <tr>\n",
       "      <th>28</th>\n",
       "      <td>11.428571</td>\n",
       "      <td>-21.857143</td>\n",
       "    </tr>\n",
       "    <tr>\n",
       "      <th>29</th>\n",
       "      <td>11.836735</td>\n",
       "      <td>-22.673469</td>\n",
       "    </tr>\n",
       "    <tr>\n",
       "      <th>30</th>\n",
       "      <td>12.244898</td>\n",
       "      <td>-23.489796</td>\n",
       "    </tr>\n",
       "    <tr>\n",
       "      <th>31</th>\n",
       "      <td>12.653061</td>\n",
       "      <td>-24.306122</td>\n",
       "    </tr>\n",
       "    <tr>\n",
       "      <th>32</th>\n",
       "      <td>13.061224</td>\n",
       "      <td>-25.122449</td>\n",
       "    </tr>\n",
       "    <tr>\n",
       "      <th>33</th>\n",
       "      <td>13.469388</td>\n",
       "      <td>-25.938776</td>\n",
       "    </tr>\n",
       "    <tr>\n",
       "      <th>34</th>\n",
       "      <td>13.877551</td>\n",
       "      <td>-26.755102</td>\n",
       "    </tr>\n",
       "    <tr>\n",
       "      <th>35</th>\n",
       "      <td>14.285714</td>\n",
       "      <td>-27.571429</td>\n",
       "    </tr>\n",
       "    <tr>\n",
       "      <th>36</th>\n",
       "      <td>14.693878</td>\n",
       "      <td>-28.387755</td>\n",
       "    </tr>\n",
       "    <tr>\n",
       "      <th>37</th>\n",
       "      <td>15.102041</td>\n",
       "      <td>-29.204082</td>\n",
       "    </tr>\n",
       "    <tr>\n",
       "      <th>38</th>\n",
       "      <td>15.510204</td>\n",
       "      <td>-30.020408</td>\n",
       "    </tr>\n",
       "    <tr>\n",
       "      <th>39</th>\n",
       "      <td>15.918367</td>\n",
       "      <td>-30.836735</td>\n",
       "    </tr>\n",
       "    <tr>\n",
       "      <th>40</th>\n",
       "      <td>16.326531</td>\n",
       "      <td>-31.653061</td>\n",
       "    </tr>\n",
       "    <tr>\n",
       "      <th>41</th>\n",
       "      <td>16.734694</td>\n",
       "      <td>-32.469388</td>\n",
       "    </tr>\n",
       "    <tr>\n",
       "      <th>42</th>\n",
       "      <td>17.142857</td>\n",
       "      <td>-33.285714</td>\n",
       "    </tr>\n",
       "    <tr>\n",
       "      <th>43</th>\n",
       "      <td>17.551020</td>\n",
       "      <td>-34.102041</td>\n",
       "    </tr>\n",
       "    <tr>\n",
       "      <th>44</th>\n",
       "      <td>17.959184</td>\n",
       "      <td>-34.918367</td>\n",
       "    </tr>\n",
       "    <tr>\n",
       "      <th>45</th>\n",
       "      <td>18.367347</td>\n",
       "      <td>-35.734694</td>\n",
       "    </tr>\n",
       "    <tr>\n",
       "      <th>46</th>\n",
       "      <td>18.775510</td>\n",
       "      <td>-36.551020</td>\n",
       "    </tr>\n",
       "    <tr>\n",
       "      <th>47</th>\n",
       "      <td>19.183673</td>\n",
       "      <td>-37.367347</td>\n",
       "    </tr>\n",
       "    <tr>\n",
       "      <th>48</th>\n",
       "      <td>19.591837</td>\n",
       "      <td>-38.183673</td>\n",
       "    </tr>\n",
       "    <tr>\n",
       "      <th>49</th>\n",
       "      <td>20.000000</td>\n",
       "      <td>-39.000000</td>\n",
       "    </tr>\n",
       "  </tbody>\n",
       "</table>\n",
       "</div>"
      ],
      "text/plain": [
       "            x          y\n",
       "0    0.000000   1.000000\n",
       "1    0.408163   0.183673\n",
       "2    0.816327  -0.632653\n",
       "3    1.224490  -1.448980\n",
       "4    1.632653  -2.265306\n",
       "5    2.040816  -3.081633\n",
       "6    2.448980  -3.897959\n",
       "7    2.857143  -4.714286\n",
       "8    3.265306  -5.530612\n",
       "9    3.673469  -6.346939\n",
       "10   4.081633  -7.163265\n",
       "11   4.489796  -7.979592\n",
       "12   4.897959  -8.795918\n",
       "13   5.306122  -9.612245\n",
       "14   5.714286 -10.428571\n",
       "15   6.122449 -11.244898\n",
       "16   6.530612 -12.061224\n",
       "17   6.938776 -12.877551\n",
       "18   7.346939 -13.693878\n",
       "19   7.755102 -14.510204\n",
       "20   8.163265 -15.326531\n",
       "21   8.571429 -16.142857\n",
       "22   8.979592 -16.959184\n",
       "23   9.387755 -17.775510\n",
       "24   9.795918 -18.591837\n",
       "25  10.204082 -19.408163\n",
       "26  10.612245 -20.224490\n",
       "27  11.020408 -21.040816\n",
       "28  11.428571 -21.857143\n",
       "29  11.836735 -22.673469\n",
       "30  12.244898 -23.489796\n",
       "31  12.653061 -24.306122\n",
       "32  13.061224 -25.122449\n",
       "33  13.469388 -25.938776\n",
       "34  13.877551 -26.755102\n",
       "35  14.285714 -27.571429\n",
       "36  14.693878 -28.387755\n",
       "37  15.102041 -29.204082\n",
       "38  15.510204 -30.020408\n",
       "39  15.918367 -30.836735\n",
       "40  16.326531 -31.653061\n",
       "41  16.734694 -32.469388\n",
       "42  17.142857 -33.285714\n",
       "43  17.551020 -34.102041\n",
       "44  17.959184 -34.918367\n",
       "45  18.367347 -35.734694\n",
       "46  18.775510 -36.551020\n",
       "47  19.183673 -37.367347\n",
       "48  19.591837 -38.183673\n",
       "49  20.000000 -39.000000"
      ]
     },
     "execution_count": 63,
     "metadata": {},
     "output_type": "execute_result"
    }
   ],
   "source": [
    "df = pd.DataFrame({'x':x, 'y':y})\n",
    "df"
   ]
  },
  {
   "cell_type": "code",
   "execution_count": 64,
   "metadata": {},
   "outputs": [
    {
     "name": "stdout",
     "output_type": "stream",
     "text": [
      "[ 0.          0.40816327  0.81632653  1.2244898   1.63265306  2.04081633\n",
      "  2.44897959  2.85714286  3.26530612  3.67346939  4.08163265  4.48979592\n",
      "  4.89795918  5.30612245  5.71428571  6.12244898  6.53061224  6.93877551\n",
      "  7.34693878  7.75510204  8.16326531  8.57142857  8.97959184  9.3877551\n",
      "  9.79591837 10.20408163 10.6122449  11.02040816 11.42857143 11.83673469\n",
      " 12.24489796 12.65306122 13.06122449 13.46938776 13.87755102 14.28571429\n",
      " 14.69387755 15.10204082 15.51020408 15.91836735 16.32653061 16.73469388\n",
      " 17.14285714 17.55102041 17.95918367 18.36734694 18.7755102  19.18367347\n",
      " 19.59183673 20.        ]\n",
      "-------------------------------------------------------------------------------------------\n",
      "[  1.           0.18367347  -0.63265306  -1.44897959  -2.26530612\n",
      "  -3.08163265  -3.89795918  -4.71428571  -5.53061224  -6.34693878\n",
      "  -7.16326531  -7.97959184  -8.79591837  -9.6122449  -10.42857143\n",
      " -11.24489796 -12.06122449 -12.87755102 -13.69387755 -14.51020408\n",
      " -15.32653061 -16.14285714 -16.95918367 -17.7755102  -18.59183673\n",
      " -19.40816327 -20.2244898  -21.04081633 -21.85714286 -22.67346939\n",
      " -23.48979592 -24.30612245 -25.12244898 -25.93877551 -26.75510204\n",
      " -27.57142857 -28.3877551  -29.20408163 -30.02040816 -30.83673469\n",
      " -31.65306122 -32.46938776 -33.28571429 -34.10204082 -34.91836735\n",
      " -35.73469388 -36.55102041 -37.36734694 -38.18367347 -39.        ]\n"
     ]
    }
   ],
   "source": [
    "print(x)\n",
    "print(\"-------------------------------------------------------------------------------------------\")\n",
    "print(y)"
   ]
  },
  {
   "cell_type": "markdown",
   "metadata": {},
   "source": [
    "#### Use your code from practical session 1 and create a function to perform GD for single variable linear regression.\n",
    "#### The function should take the following input parameters:\n",
    "##### Input data (X), Target Labels (y), Learning Rate (alpha), Maximum number of iterations\n",
    "#### The function should return the following:\n",
    "##### All Theta_0 and Theta_1 values till converge, and equivellant Losses, all hypothesis output, and optimum values of Theta_0 and Theta_1\n",
    "#### Note: you can choose any suitable stop criteria."
   ]
  },
  {
   "cell_type": "code",
   "execution_count": 65,
   "metadata": {},
   "outputs": [],
   "source": [
    "theta_0 = 0\n",
    "theta_1 = 0\n",
    "alpha = 0.001\n",
    "iterations = 100"
   ]
  },
  {
   "cell_type": "code",
   "execution_count": 66,
   "metadata": {},
   "outputs": [
    {
     "data": {
      "text/plain": [
       "249.88775510204087"
      ]
     },
     "execution_count": 66,
     "metadata": {},
     "output_type": "execute_result"
    }
   ],
   "source": [
    "def calc_cost_vectorize(theta_0,theta_1,x,y):\n",
    "    sigma = ((theta_0 + theta_1 * x) - y)**2\n",
    "    sigma = sigma.sum()\n",
    "    return sigma/(2*len(x))\n",
    "    \n",
    "j = calc_cost_vectorize(0,0,x,y)\n",
    "j"
   ]
  },
  {
   "cell_type": "code",
   "execution_count": 67,
   "metadata": {},
   "outputs": [
    {
     "data": {
      "text/plain": [
       "19.0"
      ]
     },
     "execution_count": 67,
     "metadata": {},
     "output_type": "execute_result"
    }
   ],
   "source": [
    "def theta_0_diff_vectorize(theta_0,theta_1,x,y):\n",
    "    sigma = ((theta_0 + theta_1 * x)-y)\n",
    "    sigma = sigma.sum()\n",
    "    return sigma/(len(x))\n",
    "\n",
    "\n",
    "dt0 = theta_0_diff_vectorize(0,0,x,y)\n",
    "dt0"
   ]
  },
  {
   "cell_type": "code",
   "execution_count": 68,
   "metadata": {},
   "outputs": [
    {
     "data": {
      "text/plain": [
       "259.38775510204084"
      ]
     },
     "execution_count": 68,
     "metadata": {},
     "output_type": "execute_result"
    }
   ],
   "source": [
    "def theta_1_diff_vectorize(theta_0,theta_1,x,y):\n",
    "    sigma = ((theta_0 + theta_1 * x)-y)*x\n",
    "    sigma = sigma.sum()\n",
    "    return sigma/(len(x))\n",
    "\n",
    "dt1 = theta_1_diff_vectorize(0,0,x,y)\n",
    "dt1"
   ]
  },
  {
   "cell_type": "code",
   "execution_count": 69,
   "metadata": {},
   "outputs": [],
   "source": [
    "loss = []\n",
    "theta_0_list = []\n",
    "theta_1_list = []\n",
    "hypo_list = []\n",
    "def gd_v3(theta_0,theta_1,x,y,alpha,iterations):\n",
    "    theta_0_list.append(0)\n",
    "    theta_1_list.append(0)\n",
    "    for i in range(iterations):\n",
    "        hypo = theta_0 + theta_1*x\n",
    "        hypo_list.append(hypo)\n",
    "        j = calc_cost_vectorize(theta_0,theta_1,x,y)\n",
    "        loss.append(j)\n",
    "        dt0 = theta_0_diff_vectorize(theta_0,theta_1,x,y)\n",
    "        dt1 = theta_1_diff_vectorize(theta_0,theta_1,x,y)\n",
    "        theta_0 = theta_0 - alpha*dt0 \n",
    "        theta_0_list.append(theta_0)\n",
    "        theta_1 = theta_1 - alpha*dt1\n",
    "        theta_1_list.append(theta_1)\n",
    "        \n",
    "        if (dt0 < 0.001) & (dt1 < 0.001):\n",
    "            break\n",
    "            \n",
    "    j = calc_cost_vectorize(theta_0,theta_1,x,y)\n",
    "    loss.append(j)\n",
    "            \n",
    "    return theta_0,theta_1,loss,theta_0_list,theta_1_list,hypo_list\n",
    "            "
   ]
  },
  {
   "cell_type": "markdown",
   "metadata": {},
   "source": [
    "#### Try your function with any input parameterss of your choice."
   ]
  },
  {
   "cell_type": "code",
   "execution_count": 70,
   "metadata": {},
   "outputs": [
    {
     "name": "stdout",
     "output_type": "stream",
     "text": [
      "-0.11354954451864654 -1.9171689348740093\n"
     ]
    }
   ],
   "source": [
    "theta_0,theta_1,loss,theta_0_history,theta_1_history,hypo_history = gd_v3(0,0,x,y,alpha,iterations)\n",
    "print(theta_0,theta_1)"
   ]
  },
  {
   "cell_type": "markdown",
   "metadata": {},
   "source": [
    "#### Calculate r2 score"
   ]
  },
  {
   "cell_type": "code",
   "execution_count": 71,
   "metadata": {},
   "outputs": [],
   "source": [
    "hypo = theta_0 + theta_1*x"
   ]
  },
  {
   "cell_type": "code",
   "execution_count": 72,
   "metadata": {},
   "outputs": [
    {
     "name": "stdout",
     "output_type": "stream",
     "text": [
      "r2 score is:  0.9976984742382373\n"
     ]
    }
   ],
   "source": [
    "from sklearn.metrics import r2_score\n",
    "r2 = r2_score(y,hypo)\n",
    "print('r2 score is: ', r2)"
   ]
  },
  {
   "cell_type": "markdown",
   "metadata": {},
   "source": [
    "#### Plot loss vs. epochs"
   ]
  },
  {
   "cell_type": "code",
   "execution_count": 73,
   "metadata": {},
   "outputs": [
    {
     "data": {
      "text/plain": [
       "[<matplotlib.lines.Line2D at 0x280a9459790>]"
      ]
     },
     "execution_count": 73,
     "metadata": {},
     "output_type": "execute_result"
    },
    {
     "data": {
      "image/png": "[encoded data removed]",
      "text/plain": [
       "<Figure size 432x288 with 1 Axes>"
      ]
     },
     "metadata": {
      "needs_background": "light"
     },
     "output_type": "display_data"
    }
   ],
   "source": [
    "plt.plot(loss)"
   ]
  },
  {
   "cell_type": "markdown",
   "metadata": {},
   "source": [
    "#### Plot Theta_0 vs. loss and Theta_1 vs. loss"
   ]
  },
  {
   "cell_type": "code",
   "execution_count": 74,
   "metadata": {},
   "outputs": [
    {
     "data": {
      "text/plain": [
       "[<matplotlib.lines.Line2D at 0x280a97aabe0>]"
      ]
     },
     "execution_count": 74,
     "metadata": {},
     "output_type": "execute_result"
    },
    {
     "data": {
      "image/png": "[encoded data removed]",
      "text/plain": [
       "<Figure size 432x288 with 1 Axes>"
      ]
     },
     "metadata": {
      "needs_background": "light"
     },
     "output_type": "display_data"
    }
   ],
   "source": [
    "plt.plot(theta_0_list,loss)"
   ]
  },
  {
   "cell_type": "code",
   "execution_count": 75,
   "metadata": {},
   "outputs": [
    {
     "data": {
      "text/plain": [
       "[<matplotlib.lines.Line2D at 0x280a980f460>]"
      ]
     },
     "execution_count": 75,
     "metadata": {},
     "output_type": "execute_result"
    },
    {
     "data": {
      "image/png": "[encoded data removed]",
      "text/plain": [
       "<Figure size 432x288 with 1 Axes>"
      ]
     },
     "metadata": {
      "needs_background": "light"
     },
     "output_type": "display_data"
    }
   ],
   "source": [
    "plt.plot(theta_1_list,loss)"
   ]
  },
  {
   "cell_type": "markdown",
   "metadata": {},
   "source": [
    "#### Plot all regression lines till converge"
   ]
  },
  {
   "cell_type": "code",
   "execution_count": 76,
   "metadata": {},
   "outputs": [
    {
     "data": {
      "image/png": "[encoded data removed]",
      "text/plain": [
       "<Figure size 432x288 with 1 Axes>"
      ]
     },
     "metadata": {
      "needs_background": "light"
     },
     "output_type": "display_data"
    }
   ],
   "source": [
    "for i in range(iterations):\n",
    "    plt.plot(x,hypo_history[i])"
   ]
  },
  {
   "cell_type": "markdown",
   "metadata": {},
   "source": [
    "#### Plot the best regression line"
   ]
  },
  {
   "cell_type": "code",
   "execution_count": 77,
   "metadata": {},
   "outputs": [
    {
     "data": {
      "text/plain": [
       "[<matplotlib.lines.Line2D at 0x280aa9e15e0>]"
      ]
     },
     "execution_count": 77,
     "metadata": {},
     "output_type": "execute_result"
    },
    {
     "data": {
      "image/png": "[encoded data removed]",
      "text/plain": [
       "<Figure size 432x288 with 1 Axes>"
      ]
     },
     "metadata": {
      "needs_background": "light"
     },
     "output_type": "display_data"
    }
   ],
   "source": [
    "plt.scatter(x,y)\n",
    "plt.plot(x,hypo)"
   ]
  },
  {
   "cell_type": "markdown",
   "metadata": {},
   "source": [
    "#### Try different learning rate and number of iterations then plot loss vs. epochs, loss vs. Theat_0 and Theta_1\n",
    "#### all regression lines till converge, and the best regression line\n",
    "#### and see the difference in output."
   ]
  },
  {
   "cell_type": "code",
   "execution_count": 78,
   "metadata": {},
   "outputs": [
    {
     "name": "stdout",
     "output_type": "stream",
     "text": [
      "-0.11871224489795916 -1.674960849645981\n"
     ]
    }
   ],
   "source": [
    "theta_0,theta_1,loss,theta_0_history,theta_1_history,hypo_history = gd_v3(0,0,x,y,0.01,500)\n",
    "print(theta_0,theta_1)"
   ]
  },
  {
   "cell_type": "code",
   "execution_count": 79,
   "metadata": {},
   "outputs": [],
   "source": [
    "hypo = theta_0 + theta_1*x"
   ]
  },
  {
   "cell_type": "code",
   "execution_count": 80,
   "metadata": {},
   "outputs": [
    {
     "name": "stdout",
     "output_type": "stream",
     "text": [
      "r2 score is:  0.9408434514159683\n"
     ]
    }
   ],
   "source": [
    "r2 = r2_score(y,hypo)\n",
    "print('r2 score is: ', r2)"
   ]
  },
  {
   "cell_type": "code",
   "execution_count": 81,
   "metadata": {},
   "outputs": [
    {
     "data": {
      "text/plain": [
       "[<matplotlib.lines.Line2D at 0x280aaa4ebb0>]"
      ]
     },
     "execution_count": 81,
     "metadata": {},
     "output_type": "execute_result"
    },
    {
     "data": {
      "image/png": "[encoded data removed]",
      "text/plain": [
       "<Figure size 432x288 with 1 Axes>"
      ]
     },
     "metadata": {
      "needs_background": "light"
     },
     "output_type": "display_data"
    }
   ],
   "source": [
    "plt.plot(loss)"
   ]
  },
  {
   "cell_type": "code",
   "execution_count": 82,
   "metadata": {},
   "outputs": [
    {
     "data": {
      "text/plain": [
       "[<matplotlib.lines.Line2D at 0x280aaab1eb0>]"
      ]
     },
     "execution_count": 82,
     "metadata": {},
     "output_type": "execute_result"
    },
    {
     "data": {
      "image/png": "[encoded data removed]",
      "text/plain": [
       "<Figure size 432x288 with 1 Axes>"
      ]
     },
     "metadata": {
      "needs_background": "light"
     },
     "output_type": "display_data"
    }
   ],
   "source": [
    "plt.plot(theta_0_list,loss)"
   ]
  },
  {
   "cell_type": "code",
   "execution_count": 83,
   "metadata": {},
   "outputs": [
    {
     "data": {
      "text/plain": [
       "[<matplotlib.lines.Line2D at 0x280aab1bfa0>]"
      ]
     },
     "execution_count": 83,
     "metadata": {},
     "output_type": "execute_result"
    },
    {
     "data": {
      "image/png": "[encoded data removed]",
      "text/plain": [
       "<Figure size 432x288 with 1 Axes>"
      ]
     },
     "metadata": {
      "needs_background": "light"
     },
     "output_type": "display_data"
    }
   ],
   "source": [
    "plt.plot(theta_1_list,loss)"
   ]
  },
  {
   "cell_type": "code",
   "execution_count": 84,
   "metadata": {},
   "outputs": [
    {
     "name": "stdout",
     "output_type": "stream",
     "text": [
      "-0.06864848025110683 -0.9426623248064118\n"
     ]
    }
   ],
   "source": [
    "theta_0,theta_1,loss,theta_0_history,theta_1_history,hypo_history = gd_v3(0,0,x,y,0.00001,500)\n",
    "print(theta_0,theta_1)"
   ]
  },
  {
   "cell_type": "code",
   "execution_count": 85,
   "metadata": {},
   "outputs": [],
   "source": [
    "hypo = theta_0 + theta_1*x"
   ]
  },
  {
   "cell_type": "code",
   "execution_count": 86,
   "metadata": {},
   "outputs": [
    {
     "name": "stdout",
     "output_type": "stream",
     "text": [
      "r2 score is:  0.06953086068205017\n"
     ]
    }
   ],
   "source": [
    "r2 = r2_score(y,hypo)\n",
    "print('r2 score is: ', r2)"
   ]
  },
  {
   "cell_type": "code",
   "execution_count": 87,
   "metadata": {},
   "outputs": [
    {
     "data": {
      "text/plain": [
       "[<matplotlib.lines.Line2D at 0x280aaba51f0>]"
      ]
     },
     "execution_count": 87,
     "metadata": {},
     "output_type": "execute_result"
    },
    {
     "data": {
      "image/png": "[encoded data removed]",
      "text/plain": [
       "<Figure size 432x288 with 1 Axes>"
      ]
     },
     "metadata": {
      "needs_background": "light"
     },
     "output_type": "display_data"
    }
   ],
   "source": [
    "plt.plot(loss)"
   ]
  },
  {
   "cell_type": "code",
   "execution_count": 88,
   "metadata": {},
   "outputs": [
    {
     "data": {
      "text/plain": [
       "[<matplotlib.lines.Line2D at 0x280aac01c40>]"
      ]
     },
     "execution_count": 88,
     "metadata": {},
     "output_type": "execute_result"
    },
    {
     "data": {
      "image/png": "[encoded data removed]",
      "text/plain": [
       "<Figure size 432x288 with 1 Axes>"
      ]
     },
     "metadata": {
      "needs_background": "light"
     },
     "output_type": "display_data"
    }
   ],
   "source": [
    "plt.plot(theta_0_list,loss)"
   ]
  },
  {
   "cell_type": "code",
   "execution_count": 89,
   "metadata": {},
   "outputs": [
    {
     "data": {
      "text/plain": [
       "[<matplotlib.lines.Line2D at 0x280aa960310>]"
      ]
     },
     "execution_count": 89,
     "metadata": {},
     "output_type": "execute_result"
    },
    {
     "data": {
      "image/png": "[encoded data removed]",
      "text/plain": [
       "<Figure size 432x288 with 1 Axes>"
      ]
     },
     "metadata": {
      "needs_background": "light"
     },
     "output_type": "display_data"
    }
   ],
   "source": [
    "plt.plot(theta_1_list,loss)"
   ]
  },
  {
   "cell_type": "markdown",
   "metadata": {},
   "source": [
    "#### Update the implementation of the Batch GD to be Mini-Batch and repeat the above plots and evaluations\n",
    "#### Change batch size and see the effect\n",
    "### Note: Try once without shuffling the data and once with shuffle and see the effect on the output."
   ]
  },
  {
   "cell_type": "code",
   "execution_count": 90,
   "metadata": {},
   "outputs": [],
   "source": [
    "theta_0 = 0\n",
    "theta_1 = 0\n",
    "epochs = 100\n",
    "alpha = 0.001\n",
    "num_of_batches = 10"
   ]
  },
  {
   "cell_type": "code",
   "execution_count": 91,
   "metadata": {},
   "outputs": [
    {
     "data": {
      "text/plain": [
       "2498.8775510204086"
      ]
     },
     "execution_count": 91,
     "metadata": {},
     "output_type": "execute_result"
    }
   ],
   "source": [
    "def calc_cost_vectorize(theta_0,theta_1,x,y,num_of_batches):\n",
    "    sigma = ((theta_0 + theta_1 * x) - y)**2\n",
    "    sigma = sigma.sum()\n",
    "    return sigma/(2*(len(x))/num_of_batches)\n",
    "    \n",
    "j = calc_cost_vectorize(0,0,x,y,num_of_batches)\n",
    "j"
   ]
  },
  {
   "cell_type": "code",
   "execution_count": 92,
   "metadata": {},
   "outputs": [
    {
     "data": {
      "text/plain": [
       "190.0"
      ]
     },
     "execution_count": 92,
     "metadata": {},
     "output_type": "execute_result"
    }
   ],
   "source": [
    "def theta_0_diff_vectorize(theta_0,theta_1,x,y,num_of_batches):\n",
    "    sigma = ((theta_0 + theta_1 * x)-y)\n",
    "    sigma = sigma.sum()\n",
    "    return (sigma)/((len(x))/num_of_batches)\n",
    "\n",
    "dt0 = theta_0_diff_vectorize(0,0,x,y,num_of_batches)\n",
    "dt0"
   ]
  },
  {
   "cell_type": "code",
   "execution_count": 93,
   "metadata": {},
   "outputs": [
    {
     "data": {
      "text/plain": [
       "2593.877551020408"
      ]
     },
     "execution_count": 93,
     "metadata": {},
     "output_type": "execute_result"
    }
   ],
   "source": [
    "def theta_1_diff_vectorize(theta_0,theta_1,x,y,num_of_batches):\n",
    "    sigma = ((theta_0 + theta_1 * x)-y)*x\n",
    "    sigma = sigma.sum()\n",
    "    return (sigma)/((len(x))/num_of_batches)\n",
    "\n",
    "dt1 = theta_1_diff_vectorize(0,0,x,y,num_of_batches)\n",
    "dt1"
   ]
  },
  {
   "cell_type": "code",
   "execution_count": 94,
   "metadata": {},
   "outputs": [],
   "source": [
    "loss = []\n",
    "theta_0_list = []\n",
    "theta_1_list = []\n",
    "hypo_list = []\n",
    "def mini_batch(theta_0,theta_1,x,y,alpha,num_of_batches):\n",
    "    for i in range(int(len(x)/num_of_batches)):\n",
    "        hypo = theta_0 + theta_1*x\n",
    "        hypo_list.append(hypo)\n",
    "        j = calc_cost_vectorize(theta_0,theta_1,x,y,2)\n",
    "        loss.append(j)\n",
    "        dt0 = theta_0_diff_vectorize(theta_0,theta_1,x,y,2)\n",
    "        dt1 = theta_1_diff_vectorize(theta_0,theta_1,x,y,2)\n",
    "        theta_0 = theta_0 + alpha*dt0\n",
    "        theta_0_list.append(theta_0)\n",
    "        theta_1 = theta_1 + alpha*dt1\n",
    "        theta_1_list.append(theta_1)\n",
    "    return theta_0,theta_1,loss,theta_0_history,theta_1_history,hypo_history\n"
   ]
  },
  {
   "cell_type": "code",
   "execution_count": 95,
   "metadata": {},
   "outputs": [
    {
     "name": "stdout",
     "output_type": "stream",
     "text": [
      "0 0\n"
     ]
    }
   ],
   "source": [
    "theta_0,theta_1,loss,theta_0_history,theta_1_history,hypo_history = mini_batch(theta_0,theta_1,x,y,alpha,epochs)\n",
    "print(theta_0,theta_1)"
   ]
  },
  {
   "cell_type": "code",
   "execution_count": 96,
   "metadata": {},
   "outputs": [],
   "source": [
    "def cost_vectorize(t0,t1,x,y):\n",
    "    error = []\n",
    "    error = (-y+(t0+t1*x))**2\n",
    "    return (sum(error)/(2*len(x)))\n",
    "    \n",
    "def diff_theta_0(t0,t1,x,y):\n",
    "    error = []\n",
    "    error = (-y+(t0+t1*x))\n",
    "    return sum(error)/len(x)\n",
    "\n",
    "def diff_theta_1(t0,t1,x,y):\n",
    "    error = 0\n",
    "    for i in range(len(x)):\n",
    "        error = (-y+(t0+t1*x))*x\n",
    "    return sum(error)/len(x)\n",
    "        \n",
    "def mini_Batch_gd(x_points,y_points, alpha, iterations,batch):\n",
    "    theta0 = 0\n",
    "    theta1 = 0\n",
    "    loss = []\n",
    "    theta0A = []\n",
    "    theta1A = []\n",
    "    hypothesis = []\n",
    "    loss.append(cost_vectorize(theta0,theta1,x_points,y_points))\n",
    "    for i in range(iterations):\n",
    "        for q in range(0,len(x_points)-batch,batch):\n",
    "            j = cost_vectorize(theta0,theta1,x_points[q:q+batch],y_points[q:q+batch])\n",
    "            #print(j)\n",
    "            \n",
    "            #hypothesis.append(theta0 + theta1*x_points[q])\n",
    "            theta0A.append(theta0)\n",
    "            theta1A.append(theta1)\n",
    "\n",
    "            dt0 = diff_theta_0(theta0,theta1,x_points[q:q+batch],y_points[q:q+batch])\n",
    "            dt1 = diff_theta_1(theta0,theta1,x_points[q:q+batch],y_points[q:q+batch])\n",
    "            theta0 = theta0 - alpha*dt0\n",
    "            theta1 = theta1 - alpha*dt1\n",
    "        \n",
    "        j = cost_vectorize(theta0,theta1,x_points,y_points)\n",
    "        if dt0<0.001 and dt1<0.001:\n",
    "            break\n",
    "        elif abs(loss[i]-j)<0.001:\n",
    "            break\n",
    "        loss.append(j)\n",
    "        print(j)\n",
    "    theta0A.append(theta0)\n",
    "    theta1A.append(theta1)    \n",
    "    #hypothesis.append(theta0 + theta1*x_points)\n",
    "    \n",
    "    return theta0, theta1, theta0A, theta1A\n"
   ]
  },
  {
   "cell_type": "code",
   "execution_count": 97,
   "metadata": {},
   "outputs": [
    {
     "data": {
      "text/plain": [
       "0.997410914839509"
      ]
     },
     "execution_count": 97,
     "metadata": {},
     "output_type": "execute_result"
    }
   ],
   "source": [
    "yhat = x*th1+th0\n",
    "from sklearn.metrics import r2_score\n",
    "r2_score(y, yhat)"
   ]
  },
  {
   "cell_type": "code",
   "execution_count": 98,
   "metadata": {},
   "outputs": [
    {
     "name": "stdout",
     "output_type": "stream",
     "text": [
      "205.01197515046093\n",
      "168.21702310170195\n",
      "138.04623410795534\n",
      "113.30567084406452\n",
      "93.01672343021282\n",
      "76.37726237822002\n",
      "62.72980110058041\n",
      "51.53540306303875\n",
      "42.35229693482938\n",
      "34.81835016771925\n",
      "28.636704750461778\n",
      "23.564004532176988\n",
      "19.400746479896025\n",
      "15.98337262425465\n",
      "13.177788606761398\n",
      "10.87405142063842\n",
      "8.982015387348183\n",
      "7.427763478498817\n",
      "6.150682290647056\n",
      "5.101064548359313\n",
      "4.23814396477733\n",
      "3.5284844615268582\n",
      "2.94465982350164\n",
      "2.464171398090447\n",
      "2.0685609011095774\n",
      "1.7426831386603288\n",
      "1.474109803170856\n",
      "1.2526407052723112\n",
      "1.0699030676429266\n",
      "0.9190230019625233\n",
      "0.7943561545097942\n",
      "0.6912668535030018\n",
      "0.6059470152915577\n",
      "0.5352676433836315\n",
      "0.47665704668014597\n",
      "0.4280009625139099\n",
      "0.3875606382344579\n",
      "0.3539056366132606\n",
      "0.3258587135277887\n",
      "0.30245059437389776\n",
      "0.2828828674336318\n",
      "0.26649753354424965\n",
      "0.25275201462142854\n",
      "0.2411986393330815\n",
      "0.23146780106212234\n",
      "0.2232541282544143\n",
      "0.21630512607318766\n",
      "0.21041184568715732\n",
      "0.20540121736943778\n",
      "0.20112974904445807\n",
      "0.19747834558534766\n",
      "0.19434804816154153\n",
      "0.19165652900891167\n",
      "0.18933520657117636\n",
      "0.1873268702128366\n",
      "0.18558372359009076\n",
      "0.18406577207403935\n",
      "0.1827394929944983\n",
      "0.1815767384418191\n",
      "0.1805538293612099\n",
      "-0.14238493350860656 -1.9020754494786152\n"
     ]
    }
   ],
   "source": [
    "th0,th1,t0,t1 = mini_Batch_gd(x,y, 0.0001, 100,5)\n",
    "print(th0,th1)"
   ]
  },
  {
   "cell_type": "markdown",
   "metadata": {},
   "source": [
    "## Stochastic GD"
   ]
  },
  {
   "cell_type": "markdown",
   "metadata": {},
   "source": [
    "#### Update the implementation of the Batch GD to beStochastic and rpeat the above plots and evaluations\n",
    "#### You can try different learning rate and see its effect.\n",
    "#### Compare to Batch and Mini-Batch GD\n",
    "### Note: Try once without shuffling the data and once with shuffle and see the effect on the output."
   ]
  },
  {
   "cell_type": "code",
   "execution_count": 99,
   "metadata": {},
   "outputs": [],
   "source": [
    "theta_0 = 0\n",
    "theta_1 = 0\n",
    "epochs = 100\n",
    "alpha = 0.001"
   ]
  },
  {
   "cell_type": "code",
   "execution_count": 100,
   "metadata": {},
   "outputs": [],
   "source": [
    "loss = []\n",
    "theta_0_list = []\n",
    "theta_1_list = []\n",
    "hypo_list = []\n",
    "def stochastic_gd(theta_0,theta_1,x,y,alpha,epochs):\n",
    "    theta_0_list.append(0)\n",
    "    theta_1_list.append(0)\n",
    "    for i in range(epochs):\n",
    "        for j in range(len(x)):\n",
    "            hypo = theta_0 + theta_1*x\n",
    "            hypo_list.append(hypo)\n",
    "            #calculating Cost\n",
    "            pre_cost = ((theta_0 + theta_1 * x[j]) - y[j])**2\n",
    "            cost = pre_cost / 2\n",
    "            loss.append(cost)\n",
    "            #calculating diff part for theta_0\n",
    "            dt0 = (theta_0 + theta_1 * x[j]) - y[j]\n",
    "            #calculating diff part for theta_1\n",
    "            dt1 = ((theta_0 + theta_1 * x[j]) - y[j])*x[j]\n",
    "            #updating theta_0 and theta_1\n",
    "            theta_0 = theta_0 - alpha*dt0 \n",
    "            theta_0_list.append(theta_0)\n",
    "            theta_1 = theta_1 - alpha*dt1\n",
    "            theta_1_list.append(theta_1)\n",
    "            \n",
    "        pre_cost = ((theta_0 + theta_1 * x[j]) - y[j])**2\n",
    "        cost = pre_cost / 2\n",
    "        loss.append(cost)\n",
    "        \n",
    "        return theta_0,theta_1,loss,theta_0_list,theta_1_list,hypo_list"
   ]
  },
  {
   "cell_type": "code",
   "execution_count": 101,
   "metadata": {},
   "outputs": [
    {
     "name": "stdout",
     "output_type": "stream",
     "text": [
      "-0.23552791262153974 -1.9350033034757819\n"
     ]
    }
   ],
   "source": [
    "theta_0,theta_1,loss,theta_0_history,theta_1_history,hypo_history = stochastic_gd(0,0,x,y,alpha,epochs)\n",
    "print(theta_0,theta_1)"
   ]
  },
  {
   "cell_type": "code",
   "execution_count": 102,
   "metadata": {},
   "outputs": [],
   "source": [
    "hypo = theta_0 + theta_1*x"
   ]
  },
  {
   "cell_type": "code",
   "execution_count": 103,
   "metadata": {},
   "outputs": [
    {
     "name": "stdout",
     "output_type": "stream",
     "text": [
      "r2 score is:  0.9964730927232207\n"
     ]
    }
   ],
   "source": [
    "r2 = r2_score(y,hypo)\n",
    "print('r2 score is: ', r2)"
   ]
  },
  {
   "cell_type": "code",
   "execution_count": 104,
   "metadata": {},
   "outputs": [
    {
     "data": {
      "text/plain": [
       "[<matplotlib.lines.Line2D at 0x280aa98ddc0>]"
      ]
     },
     "execution_count": 104,
     "metadata": {},
     "output_type": "execute_result"
    },
    {
     "data": {
      "image/png": "[encoded data removed]",
      "text/plain": [
       "<Figure size 432x288 with 1 Axes>"
      ]
     },
     "metadata": {
      "needs_background": "light"
     },
     "output_type": "display_data"
    }
   ],
   "source": [
    "plt.plot(loss)"
   ]
  },
  {
   "cell_type": "code",
   "execution_count": 105,
   "metadata": {},
   "outputs": [
    {
     "data": {
      "text/plain": [
       "[<matplotlib.lines.Line2D at 0x280aa83b100>]"
      ]
     },
     "execution_count": 105,
     "metadata": {},
     "output_type": "execute_result"
    },
    {
     "data": {
      "image/png": "[encoded data removed]",
      "text/plain": [
       "<Figure size 432x288 with 1 Axes>"
      ]
     },
     "metadata": {
      "needs_background": "light"
     },
     "output_type": "display_data"
    }
   ],
   "source": [
    "plt.plot(theta_0_list,loss)"
   ]
  },
  {
   "cell_type": "code",
   "execution_count": 106,
   "metadata": {},
   "outputs": [
    {
     "data": {
      "text/plain": [
       "[<matplotlib.lines.Line2D at 0x280aa8b7f40>]"
      ]
     },
     "execution_count": 106,
     "metadata": {},
     "output_type": "execute_result"
    },
    {
     "data": {
      "image/png": "[encoded data removed]",
      "text/plain": [
       "<Figure size 432x288 with 1 Axes>"
      ]
     },
     "metadata": {
      "needs_background": "light"
     },
     "output_type": "display_data"
    }
   ],
   "source": [
    "plt.plot(theta_1_list,loss)"
   ]
  },
  {
   "cell_type": "code",
   "execution_count": 107,
   "metadata": {},
   "outputs": [
    {
     "data": {
      "text/html": [
       "<div>\n",
       "<style scoped>\n",
       "    .dataframe tbody tr th:only-of-type {\n",
       "        vertical-align: middle;\n",
       "    }\n",
       "\n",
       "    .dataframe tbody tr th {\n",
       "        vertical-align: top;\n",
       "    }\n",
       "\n",
       "    .dataframe thead th {\n",
       "        text-align: right;\n",
       "    }\n",
       "</style>\n",
       "<table border=\"1\" class=\"dataframe\">\n",
       "  <thead>\n",
       "    <tr style=\"text-align: right;\">\n",
       "      <th></th>\n",
       "      <th>x</th>\n",
       "      <th>y</th>\n",
       "    </tr>\n",
       "  </thead>\n",
       "  <tbody>\n",
       "    <tr>\n",
       "      <th>21</th>\n",
       "      <td>8.571429</td>\n",
       "      <td>-16.142857</td>\n",
       "    </tr>\n",
       "    <tr>\n",
       "      <th>10</th>\n",
       "      <td>4.081633</td>\n",
       "      <td>-7.163265</td>\n",
       "    </tr>\n",
       "    <tr>\n",
       "      <th>46</th>\n",
       "      <td>18.775510</td>\n",
       "      <td>-36.551020</td>\n",
       "    </tr>\n",
       "    <tr>\n",
       "      <th>20</th>\n",
       "      <td>8.163265</td>\n",
       "      <td>-15.326531</td>\n",
       "    </tr>\n",
       "    <tr>\n",
       "      <th>25</th>\n",
       "      <td>10.204082</td>\n",
       "      <td>-19.408163</td>\n",
       "    </tr>\n",
       "    <tr>\n",
       "      <th>28</th>\n",
       "      <td>11.428571</td>\n",
       "      <td>-21.857143</td>\n",
       "    </tr>\n",
       "    <tr>\n",
       "      <th>16</th>\n",
       "      <td>6.530612</td>\n",
       "      <td>-12.061224</td>\n",
       "    </tr>\n",
       "    <tr>\n",
       "      <th>24</th>\n",
       "      <td>9.795918</td>\n",
       "      <td>-18.591837</td>\n",
       "    </tr>\n",
       "    <tr>\n",
       "      <th>37</th>\n",
       "      <td>15.102041</td>\n",
       "      <td>-29.204082</td>\n",
       "    </tr>\n",
       "    <tr>\n",
       "      <th>8</th>\n",
       "      <td>3.265306</td>\n",
       "      <td>-5.530612</td>\n",
       "    </tr>\n",
       "    <tr>\n",
       "      <th>17</th>\n",
       "      <td>6.938776</td>\n",
       "      <td>-12.877551</td>\n",
       "    </tr>\n",
       "    <tr>\n",
       "      <th>48</th>\n",
       "      <td>19.591837</td>\n",
       "      <td>-38.183673</td>\n",
       "    </tr>\n",
       "    <tr>\n",
       "      <th>23</th>\n",
       "      <td>9.387755</td>\n",
       "      <td>-17.775510</td>\n",
       "    </tr>\n",
       "    <tr>\n",
       "      <th>2</th>\n",
       "      <td>0.816327</td>\n",
       "      <td>-0.632653</td>\n",
       "    </tr>\n",
       "    <tr>\n",
       "      <th>45</th>\n",
       "      <td>18.367347</td>\n",
       "      <td>-35.734694</td>\n",
       "    </tr>\n",
       "    <tr>\n",
       "      <th>32</th>\n",
       "      <td>13.061224</td>\n",
       "      <td>-25.122449</td>\n",
       "    </tr>\n",
       "    <tr>\n",
       "      <th>44</th>\n",
       "      <td>17.959184</td>\n",
       "      <td>-34.918367</td>\n",
       "    </tr>\n",
       "    <tr>\n",
       "      <th>42</th>\n",
       "      <td>17.142857</td>\n",
       "      <td>-33.285714</td>\n",
       "    </tr>\n",
       "    <tr>\n",
       "      <th>47</th>\n",
       "      <td>19.183673</td>\n",
       "      <td>-37.367347</td>\n",
       "    </tr>\n",
       "    <tr>\n",
       "      <th>36</th>\n",
       "      <td>14.693878</td>\n",
       "      <td>-28.387755</td>\n",
       "    </tr>\n",
       "    <tr>\n",
       "      <th>18</th>\n",
       "      <td>7.346939</td>\n",
       "      <td>-13.693878</td>\n",
       "    </tr>\n",
       "    <tr>\n",
       "      <th>13</th>\n",
       "      <td>5.306122</td>\n",
       "      <td>-9.612245</td>\n",
       "    </tr>\n",
       "    <tr>\n",
       "      <th>15</th>\n",
       "      <td>6.122449</td>\n",
       "      <td>-11.244898</td>\n",
       "    </tr>\n",
       "    <tr>\n",
       "      <th>0</th>\n",
       "      <td>0.000000</td>\n",
       "      <td>1.000000</td>\n",
       "    </tr>\n",
       "    <tr>\n",
       "      <th>5</th>\n",
       "      <td>2.040816</td>\n",
       "      <td>-3.081633</td>\n",
       "    </tr>\n",
       "    <tr>\n",
       "      <th>31</th>\n",
       "      <td>12.653061</td>\n",
       "      <td>-24.306122</td>\n",
       "    </tr>\n",
       "    <tr>\n",
       "      <th>27</th>\n",
       "      <td>11.020408</td>\n",
       "      <td>-21.040816</td>\n",
       "    </tr>\n",
       "    <tr>\n",
       "      <th>43</th>\n",
       "      <td>17.551020</td>\n",
       "      <td>-34.102041</td>\n",
       "    </tr>\n",
       "    <tr>\n",
       "      <th>30</th>\n",
       "      <td>12.244898</td>\n",
       "      <td>-23.489796</td>\n",
       "    </tr>\n",
       "    <tr>\n",
       "      <th>49</th>\n",
       "      <td>20.000000</td>\n",
       "      <td>-39.000000</td>\n",
       "    </tr>\n",
       "    <tr>\n",
       "      <th>1</th>\n",
       "      <td>0.408163</td>\n",
       "      <td>0.183673</td>\n",
       "    </tr>\n",
       "    <tr>\n",
       "      <th>26</th>\n",
       "      <td>10.612245</td>\n",
       "      <td>-20.224490</td>\n",
       "    </tr>\n",
       "    <tr>\n",
       "      <th>14</th>\n",
       "      <td>5.714286</td>\n",
       "      <td>-10.428571</td>\n",
       "    </tr>\n",
       "    <tr>\n",
       "      <th>40</th>\n",
       "      <td>16.326531</td>\n",
       "      <td>-31.653061</td>\n",
       "    </tr>\n",
       "    <tr>\n",
       "      <th>12</th>\n",
       "      <td>4.897959</td>\n",
       "      <td>-8.795918</td>\n",
       "    </tr>\n",
       "    <tr>\n",
       "      <th>19</th>\n",
       "      <td>7.755102</td>\n",
       "      <td>-14.510204</td>\n",
       "    </tr>\n",
       "    <tr>\n",
       "      <th>9</th>\n",
       "      <td>3.673469</td>\n",
       "      <td>-6.346939</td>\n",
       "    </tr>\n",
       "    <tr>\n",
       "      <th>33</th>\n",
       "      <td>13.469388</td>\n",
       "      <td>-25.938776</td>\n",
       "    </tr>\n",
       "    <tr>\n",
       "      <th>11</th>\n",
       "      <td>4.489796</td>\n",
       "      <td>-7.979592</td>\n",
       "    </tr>\n",
       "    <tr>\n",
       "      <th>3</th>\n",
       "      <td>1.224490</td>\n",
       "      <td>-1.448980</td>\n",
       "    </tr>\n",
       "    <tr>\n",
       "      <th>6</th>\n",
       "      <td>2.448980</td>\n",
       "      <td>-3.897959</td>\n",
       "    </tr>\n",
       "    <tr>\n",
       "      <th>39</th>\n",
       "      <td>15.918367</td>\n",
       "      <td>-30.836735</td>\n",
       "    </tr>\n",
       "    <tr>\n",
       "      <th>22</th>\n",
       "      <td>8.979592</td>\n",
       "      <td>-16.959184</td>\n",
       "    </tr>\n",
       "    <tr>\n",
       "      <th>4</th>\n",
       "      <td>1.632653</td>\n",
       "      <td>-2.265306</td>\n",
       "    </tr>\n",
       "    <tr>\n",
       "      <th>34</th>\n",
       "      <td>13.877551</td>\n",
       "      <td>-26.755102</td>\n",
       "    </tr>\n",
       "    <tr>\n",
       "      <th>35</th>\n",
       "      <td>14.285714</td>\n",
       "      <td>-27.571429</td>\n",
       "    </tr>\n",
       "    <tr>\n",
       "      <th>7</th>\n",
       "      <td>2.857143</td>\n",
       "      <td>-4.714286</td>\n",
       "    </tr>\n",
       "    <tr>\n",
       "      <th>29</th>\n",
       "      <td>11.836735</td>\n",
       "      <td>-22.673469</td>\n",
       "    </tr>\n",
       "    <tr>\n",
       "      <th>41</th>\n",
       "      <td>16.734694</td>\n",
       "      <td>-32.469388</td>\n",
       "    </tr>\n",
       "    <tr>\n",
       "      <th>38</th>\n",
       "      <td>15.510204</td>\n",
       "      <td>-30.020408</td>\n",
       "    </tr>\n",
       "  </tbody>\n",
       "</table>\n",
       "</div>"
      ],
      "text/plain": [
       "            x          y\n",
       "21   8.571429 -16.142857\n",
       "10   4.081633  -7.163265\n",
       "46  18.775510 -36.551020\n",
       "20   8.163265 -15.326531\n",
       "25  10.204082 -19.408163\n",
       "28  11.428571 -21.857143\n",
       "16   6.530612 -12.061224\n",
       "24   9.795918 -18.591837\n",
       "37  15.102041 -29.204082\n",
       "8    3.265306  -5.530612\n",
       "17   6.938776 -12.877551\n",
       "48  19.591837 -38.183673\n",
       "23   9.387755 -17.775510\n",
       "2    0.816327  -0.632653\n",
       "45  18.367347 -35.734694\n",
       "32  13.061224 -25.122449\n",
       "44  17.959184 -34.918367\n",
       "42  17.142857 -33.285714\n",
       "47  19.183673 -37.367347\n",
       "36  14.693878 -28.387755\n",
       "18   7.346939 -13.693878\n",
       "13   5.306122  -9.612245\n",
       "15   6.122449 -11.244898\n",
       "0    0.000000   1.000000\n",
       "5    2.040816  -3.081633\n",
       "31  12.653061 -24.306122\n",
       "27  11.020408 -21.040816\n",
       "43  17.551020 -34.102041\n",
       "30  12.244898 -23.489796\n",
       "49  20.000000 -39.000000\n",
       "1    0.408163   0.183673\n",
       "26  10.612245 -20.224490\n",
       "14   5.714286 -10.428571\n",
       "40  16.326531 -31.653061\n",
       "12   4.897959  -8.795918\n",
       "19   7.755102 -14.510204\n",
       "9    3.673469  -6.346939\n",
       "33  13.469388 -25.938776\n",
       "11   4.489796  -7.979592\n",
       "3    1.224490  -1.448980\n",
       "6    2.448980  -3.897959\n",
       "39  15.918367 -30.836735\n",
       "22   8.979592 -16.959184\n",
       "4    1.632653  -2.265306\n",
       "34  13.877551 -26.755102\n",
       "35  14.285714 -27.571429\n",
       "7    2.857143  -4.714286\n",
       "29  11.836735 -22.673469\n",
       "41  16.734694 -32.469388\n",
       "38  15.510204 -30.020408"
      ]
     },
     "execution_count": 107,
     "metadata": {},
     "output_type": "execute_result"
    }
   ],
   "source": [
    "df = df.sample(frac = 1)\n",
    "df"
   ]
  },
  {
   "cell_type": "code",
   "execution_count": 108,
   "metadata": {},
   "outputs": [],
   "source": [
    "x = df['x'].to_numpy()\n",
    "y = df['y'].to_numpy()"
   ]
  },
  {
   "cell_type": "code",
   "execution_count": 109,
   "metadata": {},
   "outputs": [
    {
     "name": "stdout",
     "output_type": "stream",
     "text": [
      "[ 8.57142857  4.08163265 18.7755102   8.16326531 10.20408163 11.42857143\n",
      "  6.53061224  9.79591837 15.10204082  3.26530612  6.93877551 19.59183673\n",
      "  9.3877551   0.81632653 18.36734694 13.06122449 17.95918367 17.14285714\n",
      " 19.18367347 14.69387755  7.34693878  5.30612245  6.12244898  0.\n",
      "  2.04081633 12.65306122 11.02040816 17.55102041 12.24489796 20.\n",
      "  0.40816327 10.6122449   5.71428571 16.32653061  4.89795918  7.75510204\n",
      "  3.67346939 13.46938776  4.48979592  1.2244898   2.44897959 15.91836735\n",
      "  8.97959184  1.63265306 13.87755102 14.28571429  2.85714286 11.83673469\n",
      " 16.73469388 15.51020408]\n",
      "-----------------------------------------------------------------------------------------\n",
      "[-16.14285714  -7.16326531 -36.55102041 -15.32653061 -19.40816327\n",
      " -21.85714286 -12.06122449 -18.59183673 -29.20408163  -5.53061224\n",
      " -12.87755102 -38.18367347 -17.7755102   -0.63265306 -35.73469388\n",
      " -25.12244898 -34.91836735 -33.28571429 -37.36734694 -28.3877551\n",
      " -13.69387755  -9.6122449  -11.24489796   1.          -3.08163265\n",
      " -24.30612245 -21.04081633 -34.10204082 -23.48979592 -39.\n",
      "   0.18367347 -20.2244898  -10.42857143 -31.65306122  -8.79591837\n",
      " -14.51020408  -6.34693878 -25.93877551  -7.97959184  -1.44897959\n",
      "  -3.89795918 -30.83673469 -16.95918367  -2.26530612 -26.75510204\n",
      " -27.57142857  -4.71428571 -22.67346939 -32.46938776 -30.02040816]\n"
     ]
    }
   ],
   "source": [
    "print(x)\n",
    "print(\"-----------------------------------------------------------------------------------------\")\n",
    "print(y)"
   ]
  },
  {
   "cell_type": "code",
   "execution_count": 110,
   "metadata": {},
   "outputs": [],
   "source": [
    "theta_0 = 0\n",
    "theta_1 = 0\n",
    "epochs = 10000\n",
    "alpha = 0.001"
   ]
  },
  {
   "cell_type": "code",
   "execution_count": 111,
   "metadata": {},
   "outputs": [],
   "source": [
    "loss = []\n",
    "theta_0_list = []\n",
    "theta_1_list = []\n",
    "hypo_list = []\n",
    "def stochastic_gd(theta_0,theta_1,x,y,alpha,epochs):\n",
    "    for i in range(epochs):\n",
    "        for j in range(len(x)):\n",
    "            theta_0_list.append(theta_0)\n",
    "            theta_1_list.append(theta_1)\n",
    "            hypo = theta_0 + theta_1*x\n",
    "            hypo_list.append(hypo)\n",
    "            #calculating Cost\n",
    "            pre_cost = ((theta_0 + theta_1 * x[j]) - y[j])**2\n",
    "            cost = pre_cost / 2\n",
    "            loss.append(cost)\n",
    "            \n",
    "            #calculating diff part for theta_0\n",
    "            dt0 = (theta_0 + theta_1 * x[j]) - y[j]\n",
    "            #calculating diff part for theta_1\n",
    "            dt1 = ((theta_0 + theta_1 * x[j]) - y[j])*x[j]\n",
    "            \n",
    "            #updating theta_0 and theta_1\n",
    "            theta_0 = theta_0 - alpha*dt0 \n",
    "            theta_1 = theta_1 - alpha*dt1\n",
    "\n",
    "            grad = np.array (dt0 , dt1)\n",
    "            grad_norm = np.sqrt(dt0**2 + dt1**2)\n",
    "        if i!=0:\n",
    "            if (grad_norm < 1 ) :\n",
    "                break\n",
    "            if ((loss[(i-1)*len(x)] - loss[i*len(x)]) < 0.01) :\n",
    "                break\n",
    "            \n",
    "    return theta_0,theta_1,loss,theta_0_list,theta_1_list,hypo_list\n",
    "\n",
    "        "
   ]
  },
  {
   "cell_type": "code",
   "execution_count": 112,
   "metadata": {},
   "outputs": [
    {
     "name": "stdout",
     "output_type": "stream",
     "text": [
      "-0.10459748135952578 -1.9199167937387553\n"
     ]
    }
   ],
   "source": [
    "theta_0,theta_1,loss,theta_0_history,theta_1_history,hypo_history = stochastic_gd(0,0,x,y,alpha,epochs)\n",
    "print(theta_0,theta_1)"
   ]
  },
  {
   "cell_type": "code",
   "execution_count": 113,
   "metadata": {},
   "outputs": [],
   "source": [
    "hypo = theta_0 + theta_1*x"
   ]
  },
  {
   "cell_type": "code",
   "execution_count": 114,
   "metadata": {},
   "outputs": [
    {
     "name": "stdout",
     "output_type": "stream",
     "text": [
      "r2 score is:  0.9977317585405382\n"
     ]
    }
   ],
   "source": [
    "r2 = r2_score(y,hypo)\n",
    "print('r2 score is: ', r2)"
   ]
  },
  {
   "cell_type": "code",
   "execution_count": 115,
   "metadata": {},
   "outputs": [
    {
     "data": {
      "text/plain": [
       "[<matplotlib.lines.Line2D at 0x280aa891940>]"
      ]
     },
     "execution_count": 115,
     "metadata": {},
     "output_type": "execute_result"
    },
    {
     "data": {
      "image/png": "[encoded data removed]",
      "text/plain": [
       "<Figure size 432x288 with 1 Axes>"
      ]
     },
     "metadata": {
      "needs_background": "light"
     },
     "output_type": "display_data"
    }
   ],
   "source": [
    "plt.plot(loss)"
   ]
  },
  {
   "cell_type": "code",
   "execution_count": 116,
   "metadata": {},
   "outputs": [
    {
     "data": {
      "text/plain": [
       "[<matplotlib.lines.Line2D at 0x280aacc6820>]"
      ]
     },
     "execution_count": 116,
     "metadata": {},
     "output_type": "execute_result"
    },
    {
     "data": {
      "image/png": "[encoded data removed]",
      "text/plain": [
       "<Figure size 432x288 with 1 Axes>"
      ]
     },
     "metadata": {
      "needs_background": "light"
     },
     "output_type": "display_data"
    }
   ],
   "source": [
    "plt.plot(theta_0_list,loss)"
   ]
  },
  {
   "cell_type": "code",
   "execution_count": 117,
   "metadata": {},
   "outputs": [
    {
     "data": {
      "text/plain": [
       "[<matplotlib.lines.Line2D at 0x280aad2d7f0>]"
      ]
     },
     "execution_count": 117,
     "metadata": {},
     "output_type": "execute_result"
    },
    {
     "data": {
      "image/png": "[encoded data removed]",
      "text/plain": [
       "<Figure size 432x288 with 1 Axes>"
      ]
     },
     "metadata": {
      "needs_background": "light"
     },
     "output_type": "display_data"
    }
   ],
   "source": [
    "plt.plot(theta_1_list,loss)"
   ]
  },
  {
   "cell_type": "code",
   "execution_count": null,
   "metadata": {},
   "outputs": [],
   "source": []
  },
  {
   "cell_type": "code",
   "execution_count": null,
   "metadata": {},
   "outputs": [],
   "source": []
  }
 ],
 "metadata": {
  "kernelspec": {
   "display_name": "Python 3 (ipykernel)",
   "language": "python",
   "name": "python3"
  },
  "language_info": {
   "codemirror_mode": {
    "name": "ipython",
    "version": 3
   },
   "file_extension": ".py",
   "mimetype": "text/x-python",
   "name": "python",
   "nbconvert_exporter": "python",
   "pygments_lexer": "ipython3",
   "version": "3.9.7"
  }
 },
 "nbformat": 4,
 "nbformat_minor": 4
}
